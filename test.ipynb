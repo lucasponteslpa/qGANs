{
 "cells": [
  {
   "cell_type": "code",
   "execution_count": 2,
   "id": "3011e287",
   "metadata": {},
   "outputs": [],
   "source": [
    "from qgenerator import OneSubGANGenerator\n",
    "\n",
    "arch = OneSubGANGenerator(10, 6)"
   ]
  },
  {
   "cell_type": "code",
   "execution_count": null,
   "id": "2170eabd",
   "metadata": {},
   "outputs": [
    {
     "name": "stderr",
     "output_type": "stream",
     "text": [
      "6it [00:25,  4.21s/it]                       \n",
      "6it [00:27,  4.53s/it]                       \n",
      "6it [00:28,  4.68s/it]                       \n",
      "6it [00:28,  4.73s/it]                       \n",
      "6it [00:28,  4.71s/it]                       \n",
      "6it [00:28,  4.79s/it]                       \n",
      "6it [00:28,  4.73s/it]                       \n",
      "6it [00:28,  4.73s/it]                       \n",
      "6it [00:28,  4.72s/it]                       \n",
      "6it [00:28,  4.72s/it]                       \n",
      "6it [00:28,  4.75s/it]                       \n",
      "6it [00:28,  4.70s/it]                       \n",
      "6it [00:28,  4.75s/it]                       \n",
      "6it [00:28,  4.71s/it]                       \n",
      "6it [00:28,  4.74s/it]                       \n",
      "6it [00:28,  4.71s/it]                       \n",
      "6it [00:28,  4.77s/it]                       \n",
      "6it [00:28,  4.74s/it]                       \n",
      "6it [00:28,  4.74s/it]                       \n",
      "6it [00:28,  4.73s/it]                       \n",
      "6it [00:28,  4.76s/it]                       \n",
      "6it [00:28,  4.75s/it]                       \n",
      "6it [00:28,  4.78s/it]                       \n",
      "6it [00:28,  4.72s/it]                       \n",
      "6it [00:28,  4.74s/it]                       \n",
      "6it [00:28,  4.73s/it]                       \n",
      "6it [00:28,  4.74s/it]                       \n",
      "6it [00:28,  4.77s/it]                       \n",
      "6it [00:28,  4.76s/it]                       \n",
      "6it [00:28,  4.70s/it]                       \n",
      "6it [00:28,  4.75s/it]                       \n",
      "6it [00:28,  4.74s/it]                       \n",
      "6it [00:28,  4.74s/it]                       \n",
      "6it [00:28,  4.76s/it]                       \n",
      "6it [00:28,  4.75s/it]                       \n",
      "6it [00:28,  4.76s/it]                       \n",
      "6it [00:28,  4.73s/it]                       \n",
      "6it [00:28,  4.73s/it]                       \n",
      "6it [00:28,  4.73s/it]                       \n",
      "6it [00:28,  4.78s/it]                       \n",
      "6it [00:28,  4.75s/it]                       \n",
      "6it [00:28,  4.76s/it]                       \n",
      " 40%|████      | 2/5 [00:09<00:14,  4.74s/it]"
     ]
    }
   ],
   "source": [
    "arch.train(50)"
   ]
  },
  {
   "cell_type": "code",
   "execution_count": null,
   "id": "cf65dc0a",
   "metadata": {},
   "outputs": [],
   "source": [
    "arch.generate_and_save_images(0)"
   ]
  },
  {
   "cell_type": "code",
   "execution_count": 4,
   "id": "cbc8a216",
   "metadata": {},
   "outputs": [
    {
     "name": "stderr",
     "output_type": "stream",
     "text": [
      "6it [01:08, 11.44s/it]                       \n",
      "6it [01:09, 11.62s/it]                       \n",
      "6it [01:12, 12.06s/it]                       \n",
      "6it [01:10, 11.77s/it]                       \n",
      "6it [01:09, 11.60s/it]                       \n"
     ]
    }
   ],
   "source": [
    "arch.train(5)"
   ]
  },
  {
   "cell_type": "code",
   "execution_count": 5,
   "id": "2e06969e",
   "metadata": {},
   "outputs": [
    {
     "data": {
      "image/png": "[encoded data removed]",
      "text/plain": [
       "<Figure size 288x288 with 16 Axes>"
      ]
     },
     "metadata": {
      "needs_background": "light"
     },
     "output_type": "display_data"
    }
   ],
   "source": [
    "arch.generate_and_save_images(0)"
   ]
  },
  {
   "cell_type": "code",
   "execution_count": 6,
   "id": "ebccb31e",
   "metadata": {},
   "outputs": [
    {
     "name": "stderr",
     "output_type": "stream",
     "text": [
      "6it [01:09, 11.66s/it]                       \n",
      "6it [01:09, 11.62s/it]                       \n",
      "6it [01:09, 11.61s/it]                       \n",
      "6it [01:09, 11.59s/it]                       \n",
      "6it [01:09, 11.62s/it]                       \n"
     ]
    }
   ],
   "source": [
    "arch.train(5)"
   ]
  },
  {
   "cell_type": "code",
   "execution_count": 7,
   "id": "b915c7b8",
   "metadata": {},
   "outputs": [
    {
     "data": {
      "image/png": "[encoded data removed]",
      "text/plain": [
       "<Figure size 288x288 with 16 Axes>"
      ]
     },
     "metadata": {
      "needs_background": "light"
     },
     "output_type": "display_data"
    }
   ],
   "source": [
    "arch.generate_and_save_images(0)"
   ]
  },
  {
   "cell_type": "code",
   "execution_count": 8,
   "id": "50bc725e",
   "metadata": {},
   "outputs": [
    {
     "name": "stderr",
     "output_type": "stream",
     "text": [
      "6it [01:09, 11.64s/it]                       \n",
      "6it [01:09, 11.61s/it]                       \n",
      "6it [01:09, 11.62s/it]                       \n",
      "6it [01:09, 11.61s/it]                       \n",
      "6it [01:09, 11.59s/it]                       \n"
     ]
    }
   ],
   "source": [
    "arch.train(5)"
   ]
  },
  {
   "cell_type": "code",
   "execution_count": 9,
   "id": "8c476cba",
   "metadata": {},
   "outputs": [
    {
     "data": {
      "image/png": "[encoded data removed]",
      "text/plain": [
       "<Figure size 288x288 with 16 Axes>"
      ]
     },
     "metadata": {
      "needs_background": "light"
     },
     "output_type": "display_data"
    }
   ],
   "source": [
    "arch.generate_and_save_images(0)"
   ]
  },
  {
   "cell_type": "code",
   "execution_count": 10,
   "id": "bdf6e171",
   "metadata": {},
   "outputs": [
    {
     "name": "stderr",
     "output_type": "stream",
     "text": [
      "6it [01:09, 11.65s/it]                       \n",
      "6it [01:09, 11.60s/it]                       \n",
      "6it [01:10, 11.74s/it]                       \n",
      "6it [01:09, 11.64s/it]                       \n",
      "6it [01:09, 11.65s/it]                       \n"
     ]
    }
   ],
   "source": [
    "arch.train(5)"
   ]
  },
  {
   "cell_type": "code",
   "execution_count": 11,
   "id": "7d284c40",
   "metadata": {},
   "outputs": [
    {
     "data": {
      "image/png": "[encoded data removed]",
      "text/plain": [
       "<Figure size 288x288 with 16 Axes>"
      ]
     },
     "metadata": {
      "needs_background": "light"
     },
     "output_type": "display_data"
    }
   ],
   "source": [
    "arch.generate_and_save_images(0)"
   ]
  },
  {
   "cell_type": "code",
   "execution_count": null,
   "id": "bf4ffb10",
   "metadata": {},
   "outputs": [],
   "source": []
  }
 ],
 "metadata": {
  "kernelspec": {
   "display_name": "Python 3",
   "language": "python",
   "name": "python3"
  },
  "language_info": {
   "codemirror_mode": {
    "name": "ipython",
    "version": 3
   },
   "file_extension": ".py",
   "mimetype": "text/x-python",
   "name": "python",
   "nbconvert_exporter": "python",
   "pygments_lexer": "ipython3",
   "version": "3.8.8"
  }
 },
 "nbformat": 4,
 "nbformat_minor": 5
}
